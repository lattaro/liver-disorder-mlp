{
 "cells": [
  {
   "cell_type": "markdown",
   "id": "waiting-stanley",
   "metadata": {},
   "source": [
    "# Tarefa 3 - Liver Disorder (MLP)"
   ]
  },
  {
   "cell_type": "markdown",
   "id": "monthly-allocation",
   "metadata": {},
   "source": [
    "## Setup"
   ]
  },
  {
   "cell_type": "code",
   "execution_count": 1,
   "id": "regular-surgeon",
   "metadata": {},
   "outputs": [],
   "source": [
    "import pandas as pd\n",
    "import numpy as np\n",
    "import matplotlib.pyplot as plt\n",
    "\n",
    "\n",
    "\n",
    "\n",
    "#from sklearn.datasets import make_classification\n",
    "\n",
    "from sklearn import model_selection\n",
    "from sklearn.model_selection import train_test_split\n",
    "\n",
    "from sklearn.neural_network import MLPClassifier\n",
    "from sklearn.neural_network import MLPRegressor\n",
    "\n",
    "from sklearn import metrics\n",
    "from sklearn.metrics import confusion_matrix\n",
    "\n",
    "from tensorflow.keras.callbacks import EarlyStopping\n",
    "\n",
    "from sklearn import preprocessing\n",
    "from sklearn.preprocessing import StandardScaler  \n",
    "\n",
    "import statistics\n",
    "\n",
    "\n"
   ]
  },
  {
   "cell_type": "markdown",
   "id": "colored-constant",
   "metadata": {},
   "source": [
    "## Importação de base"
   ]
  },
  {
   "cell_type": "code",
   "execution_count": 2,
   "id": "committed-indianapolis",
   "metadata": {},
   "outputs": [],
   "source": [
    "df = pd.read_csv('/home/alex/Documentos/liver-disorder/bupa.data',names = ['mcv','alkphos','sgpt','sgot','gammagt','drinks','selector'])"
   ]
  },
  {
   "cell_type": "markdown",
   "id": "cheap-collection",
   "metadata": {},
   "source": [
    "   Attribute information\n",
    "   \n",
    "   1. mcc: mean corpuscular volume\n",
    "   2. alkphos: alkaline phosphotase\n",
    "   3. sgpt: alamine aminotransferase\n",
    "   4. sgot: aspartate aminotransferase\n",
    "   5. gammagt: gamma-glutamyl transpeptidase\n",
    "   6. drinks: number of half-pint equivalents of alcoholic beverages drunk per day\n",
    "   7. selector: field used to split data into two sets\n"
   ]
  },
  {
   "cell_type": "code",
   "execution_count": 3,
   "id": "delayed-astronomy",
   "metadata": {},
   "outputs": [
    {
     "data": {
      "text/html": [
       "<div>\n",
       "<style scoped>\n",
       "    .dataframe tbody tr th:only-of-type {\n",
       "        vertical-align: middle;\n",
       "    }\n",
       "\n",
       "    .dataframe tbody tr th {\n",
       "        vertical-align: top;\n",
       "    }\n",
       "\n",
       "    .dataframe thead th {\n",
       "        text-align: right;\n",
       "    }\n",
       "</style>\n",
       "<table border=\"1\" class=\"dataframe\">\n",
       "  <thead>\n",
       "    <tr style=\"text-align: right;\">\n",
       "      <th></th>\n",
       "      <th>mcv</th>\n",
       "      <th>alkphos</th>\n",
       "      <th>sgpt</th>\n",
       "      <th>sgot</th>\n",
       "      <th>gammagt</th>\n",
       "      <th>drinks</th>\n",
       "      <th>selector</th>\n",
       "    </tr>\n",
       "  </thead>\n",
       "  <tbody>\n",
       "    <tr>\n",
       "      <th>46</th>\n",
       "      <td>92</td>\n",
       "      <td>56</td>\n",
       "      <td>14</td>\n",
       "      <td>16</td>\n",
       "      <td>10</td>\n",
       "      <td>0.5</td>\n",
       "      <td>2</td>\n",
       "    </tr>\n",
       "    <tr>\n",
       "      <th>206</th>\n",
       "      <td>90</td>\n",
       "      <td>73</td>\n",
       "      <td>24</td>\n",
       "      <td>23</td>\n",
       "      <td>11</td>\n",
       "      <td>0.5</td>\n",
       "      <td>1</td>\n",
       "    </tr>\n",
       "    <tr>\n",
       "      <th>267</th>\n",
       "      <td>89</td>\n",
       "      <td>109</td>\n",
       "      <td>26</td>\n",
       "      <td>25</td>\n",
       "      <td>27</td>\n",
       "      <td>2.0</td>\n",
       "      <td>2</td>\n",
       "    </tr>\n",
       "    <tr>\n",
       "      <th>317</th>\n",
       "      <td>92</td>\n",
       "      <td>80</td>\n",
       "      <td>10</td>\n",
       "      <td>26</td>\n",
       "      <td>20</td>\n",
       "      <td>6.0</td>\n",
       "      <td>1</td>\n",
       "    </tr>\n",
       "    <tr>\n",
       "      <th>169</th>\n",
       "      <td>97</td>\n",
       "      <td>71</td>\n",
       "      <td>29</td>\n",
       "      <td>22</td>\n",
       "      <td>52</td>\n",
       "      <td>8.0</td>\n",
       "      <td>1</td>\n",
       "    </tr>\n",
       "    <tr>\n",
       "      <th>282</th>\n",
       "      <td>82</td>\n",
       "      <td>68</td>\n",
       "      <td>20</td>\n",
       "      <td>22</td>\n",
       "      <td>9</td>\n",
       "      <td>4.0</td>\n",
       "      <td>2</td>\n",
       "    </tr>\n",
       "    <tr>\n",
       "      <th>178</th>\n",
       "      <td>92</td>\n",
       "      <td>95</td>\n",
       "      <td>85</td>\n",
       "      <td>48</td>\n",
       "      <td>200</td>\n",
       "      <td>8.0</td>\n",
       "      <td>2</td>\n",
       "    </tr>\n",
       "    <tr>\n",
       "      <th>269</th>\n",
       "      <td>93</td>\n",
       "      <td>58</td>\n",
       "      <td>20</td>\n",
       "      <td>23</td>\n",
       "      <td>18</td>\n",
       "      <td>2.0</td>\n",
       "      <td>2</td>\n",
       "    </tr>\n",
       "    <tr>\n",
       "      <th>76</th>\n",
       "      <td>87</td>\n",
       "      <td>90</td>\n",
       "      <td>43</td>\n",
       "      <td>28</td>\n",
       "      <td>156</td>\n",
       "      <td>2.0</td>\n",
       "      <td>2</td>\n",
       "    </tr>\n",
       "    <tr>\n",
       "      <th>167</th>\n",
       "      <td>92</td>\n",
       "      <td>93</td>\n",
       "      <td>58</td>\n",
       "      <td>35</td>\n",
       "      <td>120</td>\n",
       "      <td>7.0</td>\n",
       "      <td>1</td>\n",
       "    </tr>\n",
       "  </tbody>\n",
       "</table>\n",
       "</div>"
      ],
      "text/plain": [
       "     mcv  alkphos  sgpt  sgot  gammagt  drinks  selector\n",
       "46    92       56    14    16       10     0.5         2\n",
       "206   90       73    24    23       11     0.5         1\n",
       "267   89      109    26    25       27     2.0         2\n",
       "317   92       80    10    26       20     6.0         1\n",
       "169   97       71    29    22       52     8.0         1\n",
       "282   82       68    20    22        9     4.0         2\n",
       "178   92       95    85    48      200     8.0         2\n",
       "269   93       58    20    23       18     2.0         2\n",
       "76    87       90    43    28      156     2.0         2\n",
       "167   92       93    58    35      120     7.0         1"
      ]
     },
     "execution_count": 3,
     "metadata": {},
     "output_type": "execute_result"
    }
   ],
   "source": [
    "df.sample(10)"
   ]
  },
  {
   "cell_type": "code",
   "execution_count": 4,
   "id": "pretty-piece",
   "metadata": {},
   "outputs": [
    {
     "data": {
      "text/plain": [
       "345"
      ]
     },
     "execution_count": 4,
     "metadata": {},
     "output_type": "execute_result"
    }
   ],
   "source": [
    "len(df)"
   ]
  },
  {
   "cell_type": "markdown",
   "id": "clean-financing",
   "metadata": {},
   "source": [
    "## Insights da base"
   ]
  },
  {
   "cell_type": "code",
   "execution_count": 5,
   "id": "duplicate-render",
   "metadata": {},
   "outputs": [
    {
     "data": {
      "text/html": [
       "<div>\n",
       "<style scoped>\n",
       "    .dataframe tbody tr th:only-of-type {\n",
       "        vertical-align: middle;\n",
       "    }\n",
       "\n",
       "    .dataframe tbody tr th {\n",
       "        vertical-align: top;\n",
       "    }\n",
       "\n",
       "    .dataframe thead th {\n",
       "        text-align: right;\n",
       "    }\n",
       "</style>\n",
       "<table border=\"1\" class=\"dataframe\">\n",
       "  <thead>\n",
       "    <tr style=\"text-align: right;\">\n",
       "      <th></th>\n",
       "      <th>drinks</th>\n",
       "    </tr>\n",
       "  </thead>\n",
       "  <tbody>\n",
       "    <tr>\n",
       "      <th>0.0</th>\n",
       "      <td>0.026087</td>\n",
       "    </tr>\n",
       "    <tr>\n",
       "      <th>0.5</th>\n",
       "      <td>0.313043</td>\n",
       "    </tr>\n",
       "    <tr>\n",
       "      <th>1.0</th>\n",
       "      <td>0.049275</td>\n",
       "    </tr>\n",
       "    <tr>\n",
       "      <th>2.0</th>\n",
       "      <td>0.101449</td>\n",
       "    </tr>\n",
       "    <tr>\n",
       "      <th>3.0</th>\n",
       "      <td>0.060870</td>\n",
       "    </tr>\n",
       "    <tr>\n",
       "      <th>4.0</th>\n",
       "      <td>0.144928</td>\n",
       "    </tr>\n",
       "    <tr>\n",
       "      <th>5.0</th>\n",
       "      <td>0.049275</td>\n",
       "    </tr>\n",
       "    <tr>\n",
       "      <th>6.0</th>\n",
       "      <td>0.115942</td>\n",
       "    </tr>\n",
       "    <tr>\n",
       "      <th>7.0</th>\n",
       "      <td>0.017391</td>\n",
       "    </tr>\n",
       "    <tr>\n",
       "      <th>8.0</th>\n",
       "      <td>0.060870</td>\n",
       "    </tr>\n",
       "    <tr>\n",
       "      <th>9.0</th>\n",
       "      <td>0.005797</td>\n",
       "    </tr>\n",
       "    <tr>\n",
       "      <th>10.0</th>\n",
       "      <td>0.028986</td>\n",
       "    </tr>\n",
       "    <tr>\n",
       "      <th>12.0</th>\n",
       "      <td>0.011594</td>\n",
       "    </tr>\n",
       "    <tr>\n",
       "      <th>15.0</th>\n",
       "      <td>0.002899</td>\n",
       "    </tr>\n",
       "    <tr>\n",
       "      <th>16.0</th>\n",
       "      <td>0.005797</td>\n",
       "    </tr>\n",
       "    <tr>\n",
       "      <th>20.0</th>\n",
       "      <td>0.005797</td>\n",
       "    </tr>\n",
       "  </tbody>\n",
       "</table>\n",
       "</div>"
      ],
      "text/plain": [
       "        drinks\n",
       "0.0   0.026087\n",
       "0.5   0.313043\n",
       "1.0   0.049275\n",
       "2.0   0.101449\n",
       "3.0   0.060870\n",
       "4.0   0.144928\n",
       "5.0   0.049275\n",
       "6.0   0.115942\n",
       "7.0   0.017391\n",
       "8.0   0.060870\n",
       "9.0   0.005797\n",
       "10.0  0.028986\n",
       "12.0  0.011594\n",
       "15.0  0.002899\n",
       "16.0  0.005797\n",
       "20.0  0.005797"
      ]
     },
     "execution_count": 5,
     "metadata": {},
     "output_type": "execute_result"
    }
   ],
   "source": [
    "df['drinks'].value_counts(dropna = False, normalize = True).sort_index().to_frame()"
   ]
  },
  {
   "cell_type": "code",
   "execution_count": 6,
   "id": "lucky-breakdown",
   "metadata": {},
   "outputs": [
    {
     "data": {
      "image/png": "[encoded data removed]",
      "text/plain": [
       "<Figure size 432x288 with 1 Axes>"
      ]
     },
     "metadata": {
      "needs_background": "light"
     },
     "output_type": "display_data"
    }
   ],
   "source": [
    "plt.hist(df['drinks'],label = 'Número 1/2 pint por dia',bins=20)\n",
    "plt.title('Distribuição de bebidas por dia')\n",
    "plt.xlabel('Número de bebidas')\n",
    "plt.ylabel('Numero de pessoas')\n",
    "plt.legend(loc='upper right')\n",
    "plt.xticks(range(0, 21))\n",
    "plt.show()"
   ]
  },
  {
   "cell_type": "markdown",
   "id": "fluid-dating",
   "metadata": {},
   "source": [
    "### Alguns papers indicam que as doenças hepáticas estão associadas a um consumo acima de 5 drinks por dia\n",
    " - Essa informação também é mencionada na descrição do dataset\n",
    " - Assim, classificamos como 1 aqueles que bebem mais de 5 e como 0 os que bebem até 5\n",
    " - Também ignoramos a coluna selector pois indicava apenas uma possível divisão dos dados\n",
    " - Depois de classificar, passamos a ignorar a característica 'drinks' dada que a correlação dela, por construção, é muito forte com a variável objetivo"
   ]
  },
  {
   "cell_type": "code",
   "execution_count": 7,
   "id": "happy-cooler",
   "metadata": {},
   "outputs": [],
   "source": [
    "df['class'] = np.select([df['drinks']>5],\n",
    "                       [1],0)"
   ]
  },
  {
   "cell_type": "code",
   "execution_count": 8,
   "id": "catholic-seller",
   "metadata": {},
   "outputs": [
    {
     "data": {
      "text/plain": [
       "0    257\n",
       "1     88\n",
       "Name: class, dtype: int64"
      ]
     },
     "execution_count": 8,
     "metadata": {},
     "output_type": "execute_result"
    }
   ],
   "source": [
    "df['class'].value_counts(dropna = False)"
   ]
  },
  {
   "cell_type": "code",
   "execution_count": 9,
   "id": "utility-duplicate",
   "metadata": {},
   "outputs": [],
   "source": [
    "df_res = df.drop(columns=['drinks','selector'])"
   ]
  },
  {
   "cell_type": "code",
   "execution_count": 10,
   "id": "visible-victor",
   "metadata": {},
   "outputs": [
    {
     "data": {
      "text/html": [
       "<div>\n",
       "<style scoped>\n",
       "    .dataframe tbody tr th:only-of-type {\n",
       "        vertical-align: middle;\n",
       "    }\n",
       "\n",
       "    .dataframe tbody tr th {\n",
       "        vertical-align: top;\n",
       "    }\n",
       "\n",
       "    .dataframe thead th {\n",
       "        text-align: right;\n",
       "    }\n",
       "</style>\n",
       "<table border=\"1\" class=\"dataframe\">\n",
       "  <thead>\n",
       "    <tr style=\"text-align: right;\">\n",
       "      <th></th>\n",
       "      <th>mcv</th>\n",
       "      <th>alkphos</th>\n",
       "      <th>sgpt</th>\n",
       "      <th>sgot</th>\n",
       "      <th>gammagt</th>\n",
       "      <th>class</th>\n",
       "    </tr>\n",
       "  </thead>\n",
       "  <tbody>\n",
       "    <tr>\n",
       "      <th>0</th>\n",
       "      <td>85</td>\n",
       "      <td>92</td>\n",
       "      <td>45</td>\n",
       "      <td>27</td>\n",
       "      <td>31</td>\n",
       "      <td>0</td>\n",
       "    </tr>\n",
       "    <tr>\n",
       "      <th>1</th>\n",
       "      <td>85</td>\n",
       "      <td>64</td>\n",
       "      <td>59</td>\n",
       "      <td>32</td>\n",
       "      <td>23</td>\n",
       "      <td>0</td>\n",
       "    </tr>\n",
       "    <tr>\n",
       "      <th>2</th>\n",
       "      <td>86</td>\n",
       "      <td>54</td>\n",
       "      <td>33</td>\n",
       "      <td>16</td>\n",
       "      <td>54</td>\n",
       "      <td>0</td>\n",
       "    </tr>\n",
       "    <tr>\n",
       "      <th>3</th>\n",
       "      <td>91</td>\n",
       "      <td>78</td>\n",
       "      <td>34</td>\n",
       "      <td>24</td>\n",
       "      <td>36</td>\n",
       "      <td>0</td>\n",
       "    </tr>\n",
       "    <tr>\n",
       "      <th>4</th>\n",
       "      <td>87</td>\n",
       "      <td>70</td>\n",
       "      <td>12</td>\n",
       "      <td>28</td>\n",
       "      <td>10</td>\n",
       "      <td>0</td>\n",
       "    </tr>\n",
       "  </tbody>\n",
       "</table>\n",
       "</div>"
      ],
      "text/plain": [
       "   mcv  alkphos  sgpt  sgot  gammagt  class\n",
       "0   85       92    45    27       31      0\n",
       "1   85       64    59    32       23      0\n",
       "2   86       54    33    16       54      0\n",
       "3   91       78    34    24       36      0\n",
       "4   87       70    12    28       10      0"
      ]
     },
     "execution_count": 10,
     "metadata": {},
     "output_type": "execute_result"
    }
   ],
   "source": [
    "df_res.head()"
   ]
  },
  {
   "cell_type": "markdown",
   "id": "necessary-panama",
   "metadata": {},
   "source": [
    "## Desenvolvimento"
   ]
  },
  {
   "cell_type": "markdown",
   "id": "cordless-lemon",
   "metadata": {},
   "source": [
    "### Matriz de Confusão"
   ]
  },
  {
   "cell_type": "code",
   "execution_count": 11,
   "id": "current-contract",
   "metadata": {},
   "outputs": [],
   "source": [
    "def accuracy(confusion_matrix):\n",
    "   diagonal_sum = confusion_matrix.trace()\n",
    "   sum_of_all_elements = confusion_matrix.sum()\n",
    "   return diagonal_sum / sum_of_all_elements"
   ]
  },
  {
   "cell_type": "markdown",
   "id": "located-matrix",
   "metadata": {},
   "source": [
    "### Treino, teste e normalização"
   ]
  },
  {
   "cell_type": "markdown",
   "id": "union-regression",
   "metadata": {},
   "source": [
    "#### Parâmetros\n",
    " - with_mean -> Aqui foi utilizado o valor 6 que é correspondente ao número de features do df\n",
    " - with_std -> Dimensiona os dados para a variação da unidade (ou, de forma equivalente, o desvio padrão da unidade). "
   ]
  },
  {
   "cell_type": "code",
   "execution_count": 12,
   "id": "blond-heaven",
   "metadata": {},
   "outputs": [],
   "source": [
    "X_train, X_test, y_train, y_test = train_test_split(df_res.drop('class',axis=1),df_res['class'],test_size=0.3, random_state = 42)\n",
    "#Opções:\n",
    "# Normalizer\n",
    "# KBinsDiscretizer\n",
    "# StandardScaler\n",
    "scaler = preprocessing.StandardScaler(with_mean = 5, with_std = True)\n",
    "scaler.fit(X_train)\n",
    "X_train = scaler.transform(X_train)\n",
    "X_test = scaler.transform(X_test)"
   ]
  },
  {
   "cell_type": "code",
   "execution_count": 13,
   "id": "traditional-hopkins",
   "metadata": {},
   "outputs": [
    {
     "name": "stdout",
     "output_type": "stream",
     "text": [
      "[[ 0.17876537 -0.6360714  -0.02269914 -0.17800473  0.09426163]\n",
      " [ 0.17876537  0.69540283 -0.48240438 -0.57247958 -0.64968861]\n",
      " [ 0.17876537 -0.80974195 -0.29852229 -0.27662344 -0.09172593]\n",
      " ...\n",
      " [ 0.17876537  0.69540283  0.25312401 -0.17800473 -0.30428315]\n",
      " [-0.45170957 -0.6360714  -1.03405068 -0.96695442 -0.59654931]\n",
      " [-0.24155125 -0.2887303  -0.43643386  0.21647012 -0.75596722]]\n"
     ]
    }
   ],
   "source": [
    "print(X_train)"
   ]
  },
  {
   "cell_type": "markdown",
   "id": "unlike-riverside",
   "metadata": {},
   "source": [
    "### MLP"
   ]
  },
  {
   "cell_type": "markdown",
   "id": "previous-indication",
   "metadata": {},
   "source": [
    "#### Parâmetros\n",
    " - hidden_layer_sizes -> Número de camdas de entrada, número de camadas escondidas, número de camadas de saída\n",
    " - Função de ativação -> tangente hiperbólica\n",
    " - alpha -> termo de regularização ou parâmetro de penalidade\n",
    " - solver -> otimizador de pesos\n",
    " - max_iter -> máximo de iterações permitido\n",
    " - batch_size -> o tamanho dos minibatches para para otimizadores estocásticos\n",
    " - learning_rate_init -> Determinar o tamaho do passo na atualização dos pesos"
   ]
  },
  {
   "cell_type": "markdown",
   "id": "sunset-montgomery",
   "metadata": {},
   "source": [
    "### Relatório"
   ]
  },
  {
   "cell_type": "markdown",
   "id": "informational-exchange",
   "metadata": {},
   "source": [
    "#### Descrição do relatório de classificação\n",
    " - As médias relatadas incluem macro avg (média da média não ponderada por rótulo), weighted avg (média da média ponderada de suporte por rótulo) e sample average(apenas para classificação multilabel). \n",
    " - Precision = True Positive / Total Predicted Positive\n",
    " - Recall = True Positive / Total Actual Positive\n",
    " - F1 = 2*((Precision*Recall)/(Precision+Recall))"
   ]
  },
  {
   "cell_type": "markdown",
   "id": "manufactured-nigeria",
   "metadata": {},
   "source": [
    "### Modelo"
   ]
  },
  {
   "cell_type": "code",
   "execution_count": 50,
   "id": "biblical-lincoln",
   "metadata": {},
   "outputs": [],
   "source": [
    "model = MLPClassifier(hidden_layer_sizes=(50,10,20),\n",
    "                      #verbose = 10,\n",
    "                      activation=\"tanh\",#'tanh','relu'\n",
    "                      alpha = 1e-06,\n",
    "                      solver='adam',#'lbfgs'\n",
    "                      #random_state=10,\n",
    "                      max_iter=500,\n",
    "                      early_stopping = False,\n",
    "                      learning_rate = 'constant',#'constant','invscaling'\n",
    "                      warm_start = False,\n",
    "                      batch_size = 50,\n",
    "                      learning_rate_init = 0.0001,\n",
    "                     )"
   ]
  },
  {
   "cell_type": "markdown",
   "id": "regulation-present",
   "metadata": {},
   "source": [
    "### Repetições"
   ]
  },
  {
   "cell_type": "code",
   "execution_count": 51,
   "id": "infrared-birthday",
   "metadata": {},
   "outputs": [
    {
     "name": "stdout",
     "output_type": "stream",
     "text": [
      "Repetição:  1\n",
      "\n",
      "MLP               precision    recall  f1-score   support\n",
      "\n",
      "           0       0.80      0.96      0.87        76\n",
      "           1       0.77      0.36      0.49        28\n",
      "\n",
      "    accuracy                           0.80       104\n",
      "   macro avg       0.79      0.66      0.68       104\n",
      "weighted avg       0.79      0.80      0.77       104\n",
      "\n",
      "Accuracy:  0.80 \n",
      "\n",
      "\n",
      "Repetição:  2\n",
      "\n",
      "MLP               precision    recall  f1-score   support\n",
      "\n",
      "           0       0.80      0.97      0.88        76\n",
      "           1       0.83      0.36      0.50        28\n",
      "\n",
      "    accuracy                           0.81       104\n",
      "   macro avg       0.82      0.67      0.69       104\n",
      "weighted avg       0.81      0.81      0.78       104\n",
      "\n",
      "Accuracy:  0.81 \n",
      "\n",
      "\n",
      "Repetição:  3\n",
      "\n",
      "MLP               precision    recall  f1-score   support\n",
      "\n",
      "           0       0.80      0.97      0.88        76\n",
      "           1       0.83      0.36      0.50        28\n",
      "\n",
      "    accuracy                           0.81       104\n",
      "   macro avg       0.82      0.67      0.69       104\n",
      "weighted avg       0.81      0.81      0.78       104\n",
      "\n",
      "Accuracy:  0.81 \n",
      "\n",
      "\n",
      "Repetição:  4\n",
      "\n",
      "MLP               precision    recall  f1-score   support\n",
      "\n",
      "           0       0.79      0.97      0.87        76\n",
      "           1       0.80      0.29      0.42        28\n",
      "\n",
      "    accuracy                           0.79       104\n",
      "   macro avg       0.79      0.63      0.65       104\n",
      "weighted avg       0.79      0.79      0.75       104\n",
      "\n",
      "Accuracy:  0.79 \n",
      "\n",
      "\n",
      "Repetição:  5\n",
      "\n",
      "MLP               precision    recall  f1-score   support\n",
      "\n",
      "           0       0.79      0.96      0.87        76\n",
      "           1       0.75      0.32      0.45        28\n",
      "\n",
      "    accuracy                           0.79       104\n",
      "   macro avg       0.77      0.64      0.66       104\n",
      "weighted avg       0.78      0.79      0.76       104\n",
      "\n",
      "Accuracy:  0.79 \n",
      "\n",
      "\n",
      "\n",
      "Acuracia Média:  0.80 \n",
      "Desvio Padrão:  0.00962\n"
     ]
    }
   ],
   "source": [
    "acuracia_media = []\n",
    "\n",
    "i = 1\n",
    "while i <= 5:\n",
    "    \n",
    "    print('Repetição: ',i)\n",
    "    \n",
    "    model = model.fit(X_train, y_train)\n",
    "\n",
    "    y_pred = model.predict(X_test)\n",
    "    \n",
    "    print('\\nMLP',metrics.classification_report(y_test,y_pred))\n",
    "\n",
    "    cm = confusion_matrix(y_pred, y_test)\n",
    "    acuracia_media.append(accuracy(cm))\n",
    "    print('Accuracy: ',\"%.2f\" %accuracy(cm),'\\n\\n')\n",
    "\n",
    "    i = i+1\n",
    "    \n",
    "desvio_padrao = statistics.stdev(acuracia_media)\n",
    "media = statistics.mean(acuracia_media)\n",
    "print('\\nAcuracia Média: ',\"%.2f\" %media,'\\nDesvio Padrão: ',\"%.5f\" %desvio_padrao)"
   ]
  }
 ],
 "metadata": {
  "kernelspec": {
   "display_name": "Python 3",
   "language": "python",
   "name": "python3"
  },
  "language_info": {
   "codemirror_mode": {
    "name": "ipython",
    "version": 3
   },
   "file_extension": ".py",
   "mimetype": "text/x-python",
   "name": "python",
   "nbconvert_exporter": "python",
   "pygments_lexer": "ipython3",
   "version": "3.8.5"
  }
 },
 "nbformat": 4,
 "nbformat_minor": 5
}
